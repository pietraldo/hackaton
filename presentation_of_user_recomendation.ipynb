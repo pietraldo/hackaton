{
 "cells": [
  {
   "cell_type": "code",
   "execution_count": 74,
   "id": "bfdbf920",
   "metadata": {},
   "outputs": [
    {
     "data": {
      "text/plain": [
       "<module 'src.model' from 'C:\\\\Users\\\\pietr\\\\Documents\\\\hackaton\\\\src\\\\model.py'>"
      ]
     },
     "execution_count": 74,
     "metadata": {},
     "output_type": "execute_result"
    }
   ],
   "source": [
    "from src.get_data import get_wearable_data\n",
    "from src.model import HealthData, Model, load_model\n",
    "import importlib\n",
    "importlib.reload(src.model)"
   ]
  },
  {
   "cell_type": "markdown",
   "id": "92c0e814",
   "metadata": {},
   "source": [
    "## Pobieranie danych z zegarka"
   ]
  },
  {
   "cell_type": "code",
   "execution_count": 70,
   "id": "3f4be750",
   "metadata": {},
   "outputs": [],
   "source": [
    "data=get_wearable_data()"
   ]
  },
  {
   "cell_type": "code",
   "execution_count": 71,
   "id": "123bac9c",
   "metadata": {},
   "outputs": [],
   "source": [
    "healthData = HealthData(data)"
   ]
  },
  {
   "cell_type": "markdown",
   "id": "c1434b12",
   "metadata": {},
   "source": [
    "## Ocenianie parametrów"
   ]
  },
  {
   "cell_type": "code",
   "execution_count": 75,
   "id": "5b777b49",
   "metadata": {},
   "outputs": [
    {
     "ename": "AttributeError",
     "evalue": "'dict' object has no attribute 'heart_rate'",
     "output_type": "error",
     "traceback": [
      "\u001b[1;31m---------------------------------------------------------------------------\u001b[0m",
      "\u001b[1;31mAttributeError\u001b[0m                            Traceback (most recent call last)",
      "Cell \u001b[1;32mIn[75], line 2\u001b[0m\n\u001b[0;32m      1\u001b[0m model\u001b[38;5;241m=\u001b[39mload_model()\n\u001b[1;32m----> 2\u001b[0m evaluated_data\u001b[38;5;241m=\u001b[39mmodel\u001b[38;5;241m.\u001b[39mevaluate(data)\n",
      "File \u001b[1;32m~\\Documents\\hackaton\\src\\model.py:20\u001b[0m, in \u001b[0;36mModel.evaluate\u001b[1;34m(self, HealtData)\u001b[0m\n\u001b[0;32m     19\u001b[0m \u001b[38;5;28;01mdef\u001b[39;00m \u001b[38;5;21mevaluate\u001b[39m(\u001b[38;5;28mself\u001b[39m,HealtData):\n\u001b[1;32m---> 20\u001b[0m     is_stressed \u001b[38;5;241m=\u001b[39m HealtData\u001b[38;5;241m.\u001b[39mheart_rate \u001b[38;5;241m>\u001b[39m \u001b[38;5;241m100\u001b[39m \u001b[38;5;129;01mor\u001b[39;00m HealtData\u001b[38;5;241m.\u001b[39mhrv \u001b[38;5;241m<\u001b[39m \u001b[38;5;241m50\u001b[39m\n\u001b[0;32m     21\u001b[0m     is_asleep \u001b[38;5;241m=\u001b[39m HealtData\u001b[38;5;241m.\u001b[39mheart_rate \u001b[38;5;241m<\u001b[39m \u001b[38;5;241m60\u001b[39m \u001b[38;5;129;01mand\u001b[39;00m HealtData\u001b[38;5;241m.\u001b[39mrespiratory_rate \u001b[38;5;241m<\u001b[39m \u001b[38;5;241m12\u001b[39m\n\u001b[0;32m     22\u001b[0m     good_sleep \u001b[38;5;241m=\u001b[39m HealtData\u001b[38;5;241m.\u001b[39mhrv \u001b[38;5;241m>\u001b[39m \u001b[38;5;241m60\u001b[39m \u001b[38;5;129;01mand\u001b[39;00m HealtData\u001b[38;5;241m.\u001b[39mspO2 \u001b[38;5;241m>\u001b[39m\u001b[38;5;241m=\u001b[39m \u001b[38;5;241m95\u001b[39m\n",
      "\u001b[1;31mAttributeError\u001b[0m: 'dict' object has no attribute 'heart_rate'"
     ]
    }
   ],
   "source": [
    "model=load_model()\n",
    "evaluated_data=model.evaluate(data)"
   ]
  },
  {
   "cell_type": "code",
   "execution_count": null,
   "id": "7ad723a2",
   "metadata": {},
   "outputs": [],
   "source": []
  }
 ],
 "metadata": {
  "kernelspec": {
   "display_name": "Python 3 (ipykernel)",
   "language": "python",
   "name": "python3"
  },
  "language_info": {
   "codemirror_mode": {
    "name": "ipython",
    "version": 3
   },
   "file_extension": ".py",
   "mimetype": "text/x-python",
   "name": "python",
   "nbconvert_exporter": "python",
   "pygments_lexer": "ipython3",
   "version": "3.11.4"
  }
 },
 "nbformat": 4,
 "nbformat_minor": 5
}
