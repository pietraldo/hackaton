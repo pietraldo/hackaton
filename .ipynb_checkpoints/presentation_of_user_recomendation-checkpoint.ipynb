{
 "cells": [
  {
   "cell_type": "code",
   "execution_count": 65,
   "id": "bfdbf920",
   "metadata": {},
   "outputs": [
    {
     "data": {
      "text/plain": [
       "<module 'src.model' from 'C:\\\\Users\\\\pietr\\\\Documents\\\\hackaton\\\\src\\\\model.py'>"
      ]
     },
     "execution_count": 65,
     "metadata": {},
     "output_type": "execute_result"
    }
   ],
   "source": [
    "from src.get_data import get_wearable_data\n",
    "from src.model import HealthData, Model\n",
    "import importlib\n",
    "importlib.reload(src.model)"
   ]
  },
  {
   "cell_type": "markdown",
   "id": "92c0e814",
   "metadata": {},
   "source": [
    "## Pobieranie danych z zegarka"
   ]
  },
  {
   "cell_type": "code",
   "execution_count": 66,
   "id": "3f4be750",
   "metadata": {},
   "outputs": [],
   "source": [
    "data=get_wearable_data()"
   ]
  },
  {
   "cell_type": "code",
   "execution_count": 67,
   "id": "123bac9c",
   "metadata": {},
   "outputs": [],
   "source": [
    "healthData = HealthData(data)"
   ]
  },
  {
   "cell_type": "markdown",
   "id": "c1434b12",
   "metadata": {},
   "source": [
    "## Ocenianie parametrów"
   ]
  },
  {
   "cell_type": "code",
   "execution_count": 68,
   "id": "5b777b49",
   "metadata": {},
   "outputs": [
    {
     "ename": "NameError",
     "evalue": "name 'load_model' is not defined",
     "output_type": "error",
     "traceback": [
      "\u001b[1;31m---------------------------------------------------------------------------\u001b[0m",
      "\u001b[1;31mNameError\u001b[0m                                 Traceback (most recent call last)",
      "Cell \u001b[1;32mIn[68], line 1\u001b[0m\n\u001b[1;32m----> 1\u001b[0m model\u001b[38;5;241m=\u001b[39mload_model()\n\u001b[0;32m      2\u001b[0m evaluated_data\u001b[38;5;241m=\u001b[39mmodel\u001b[38;5;241m.\u001b[39mevaluate(data)\n",
      "\u001b[1;31mNameError\u001b[0m: name 'load_model' is not defined"
     ]
    }
   ],
   "source": [
    "model=load_model()\n",
    "evaluated_data=model.evaluate(data)"
   ]
  },
  {
   "cell_type": "code",
   "execution_count": null,
   "id": "7ad723a2",
   "metadata": {},
   "outputs": [],
   "source": []
  }
 ],
 "metadata": {
  "kernelspec": {
   "display_name": "Python 3 (ipykernel)",
   "language": "python",
   "name": "python3"
  },
  "language_info": {
   "codemirror_mode": {
    "name": "ipython",
    "version": 3
   },
   "file_extension": ".py",
   "mimetype": "text/x-python",
   "name": "python",
   "nbconvert_exporter": "python",
   "pygments_lexer": "ipython3",
   "version": "3.11.4"
  }
 },
 "nbformat": 4,
 "nbformat_minor": 5
}
