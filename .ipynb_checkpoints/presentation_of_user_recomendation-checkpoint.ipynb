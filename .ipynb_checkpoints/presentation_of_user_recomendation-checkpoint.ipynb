{
 "cells": [
  {
   "cell_type": "code",
   "execution_count": null,
   "id": "bfdbf920",
   "metadata": {},
   "outputs": [],
   "source": [
    "from src.get_data import get_wearable_data, get_data_from_today\n",
    "import src.model\n",
    "from src.model import HealthData, load_model\n",
    "from src.health_problem_detect import HealthProblemDetect\n",
    "import importlib\n",
    "import requests\n",
    "from api.help_functions import display_pdf\n",
    "import api.help_functions"
   ]
  },
  {
   "cell_type": "markdown",
   "id": "592a6cbe",
   "metadata": {},
   "source": [
    "# Proces informowania i doradzania użytkownikowi"
   ]
  },
  {
   "cell_type": "markdown",
   "id": "92c0e814",
   "metadata": {},
   "source": [
    "## Pobieranie danych z zegarka"
   ]
  },
  {
   "cell_type": "code",
   "execution_count": null,
   "id": "3f4be750",
   "metadata": {},
   "outputs": [],
   "source": [
    "data=get_wearable_data()\n",
    "health_data = HealthData(data)\n",
    "print(health_data)"
   ]
  },
  {
   "cell_type": "markdown",
   "id": "c1434b12",
   "metadata": {},
   "source": [
    "## Ocenianie parametrów"
   ]
  },
  {
   "cell_type": "code",
   "execution_count": null,
   "id": "5b777b49",
   "metadata": {},
   "outputs": [],
   "source": [
    "model=load_model()\n",
    "evaluated_data=model.evaluate(health_data)\n",
    "print(evaluated_data)"
   ]
  },
  {
   "cell_type": "markdown",
   "id": "84c4102c",
   "metadata": {},
   "source": [
    "## Pobieranie danych z dzisiaj"
   ]
  },
  {
   "cell_type": "code",
   "execution_count": null,
   "id": "7ad723a2",
   "metadata": {},
   "outputs": [],
   "source": [
    "today_data=get_data_from_today()\n",
    "for item in today_data:\n",
    "    print(item)"
   ]
  },
  {
   "cell_type": "markdown",
   "id": "cfb4dea0",
   "metadata": {},
   "source": [
    "## Algorytm wykrywa nieprawidłowości w parametrach pracownika"
   ]
  },
  {
   "cell_type": "code",
   "execution_count": null,
   "id": "218ffc54",
   "metadata": {},
   "outputs": [],
   "source": [
    "problem=HealthProblemDetect.detectProblem(evaluated_data, today_data)\n",
    "print(problem)"
   ]
  },
  {
   "cell_type": "markdown",
   "id": "078dd405",
   "metadata": {},
   "source": [
    "## Wysyłanie danych pracownika przez api do bazy danych"
   ]
  },
  {
   "cell_type": "code",
   "execution_count": null,
   "id": "974f89c9",
   "metadata": {},
   "outputs": [],
   "source": [
    "url = 'http://127.0.0.1:5000/save_data'  \n",
    "data = {'health_data': str(health_data)}\n",
    "response = requests.post(url, json=data)\n",
    "\n",
    "if response.status_code == 200:\n",
    "    print(\"Response:\", response.json())\n",
    "else:\n",
    "    print(\"Error:\", response.status_code, response.text)\n"
   ]
  },
  {
   "cell_type": "markdown",
   "id": "a63c5365",
   "metadata": {},
   "source": [
    "## Wysyłanie wykrytych nieprawidłowości do Sztucznej Inteligencji po porade"
   ]
  },
  {
   "cell_type": "code",
   "execution_count": null,
   "id": "8fe163ba",
   "metadata": {},
   "outputs": [],
   "source": [
    "url = 'http://127.0.0.1:5000/get_ai_recomendation'  \n",
    "data = {'health_problems': problem}\n",
    "response = requests.post(url, json=data)\n",
    "\n",
    "if response.status_code == 200:\n",
    "    print(\"Response:\", response.json())\n",
    "else:\n",
    "    print(\"Error:\", response.status_code, response.text)"
   ]
  },
  {
   "cell_type": "markdown",
   "id": "66915015",
   "metadata": {},
   "source": [
    "---"
   ]
  },
  {
   "cell_type": "markdown",
   "id": "7d4d1c5b",
   "metadata": {},
   "source": [
    "# Proces generowania raportu dla HR"
   ]
  },
  {
   "cell_type": "code",
   "execution_count": null,
   "id": "b247ee5a",
   "metadata": {},
   "outputs": [],
   "source": [
    "url = 'http://127.0.0.1:5000/generate_raport'  \n",
    "data = {'id_teamu': 2}\n",
    "response = requests.post(url, json=data)\n",
    "\n",
    "if response.status_code == 200:\n",
    "    content_disposition = response.headers.get('Content-Disposition')\n",
    "    if content_disposition and 'attachment' in content_disposition:\n",
    "        filename = content_disposition.split('filename=')[-1].strip('\\\"')\n",
    "        with open(filename, 'wb') as f:\n",
    "            f.write(response.content)\n",
    "        print(f\"PDF downloaded successfully: {filename}\")\n",
    "        display_pdf(filename)\n",
    "    else:\n",
    "        print(\"Response:\", response.json())\n",
    "else:\n",
    "    print(\"Error:\", response.status_code, response.text)\n",
    "    \n",
    "\n",
    "\n"
   ]
  },
  {
   "cell_type": "code",
   "execution_count": null,
   "id": "fc725f63",
   "metadata": {},
   "outputs": [],
   "source": []
  }
 ],
 "metadata": {
  "kernelspec": {
   "display_name": "Python 3 (ipykernel)",
   "language": "python",
   "name": "python3"
  },
  "language_info": {
   "codemirror_mode": {
    "name": "ipython",
    "version": 3
   },
   "file_extension": ".py",
   "mimetype": "text/x-python",
   "name": "python",
   "nbconvert_exporter": "python",
   "pygments_lexer": "ipython3",
   "version": "3.11.4"
  }
 },
 "nbformat": 4,
 "nbformat_minor": 5
}
