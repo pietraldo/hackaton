{
 "cells": [
  {
   "cell_type": "code",
   "execution_count": 49,
   "id": "bfdbf920",
   "metadata": {},
   "outputs": [
    {
     "ename": "SyntaxError",
     "evalue": "invalid syntax (4119657769.py, line 2)",
     "output_type": "error",
     "traceback": [
      "\u001b[1;36m  Cell \u001b[1;32mIn[49], line 2\u001b[1;36m\u001b[0m\n\u001b[1;33m    import HealthData, Model, load_model from src.model\u001b[0m\n\u001b[1;37m                                         ^\u001b[0m\n\u001b[1;31mSyntaxError\u001b[0m\u001b[1;31m:\u001b[0m invalid syntax\n"
     ]
    }
   ],
   "source": [
    "from src.get_data import get_wearable_data, get_data_from_today\n",
    "from src.model import HealthData, Model, load_model\n",
    "from src.health_problem_detect import HealthProblemDetect\n",
    "import importlib\n",
    "import requests"
   ]
  },
  {
   "cell_type": "markdown",
   "id": "92c0e814",
   "metadata": {},
   "source": [
    "## Pobieranie danych z zegarka"
   ]
  },
  {
   "cell_type": "code",
   "execution_count": 43,
   "id": "3f4be750",
   "metadata": {},
   "outputs": [],
   "source": [
    "data=get_wearable_data()\n",
    "health_data = HealthData(data)"
   ]
  },
  {
   "cell_type": "markdown",
   "id": "c1434b12",
   "metadata": {},
   "source": [
    "## Ocenianie parametrów"
   ]
  },
  {
   "cell_type": "code",
   "execution_count": 47,
   "id": "5b777b49",
   "metadata": {},
   "outputs": [
    {
     "name": "stdout",
     "output_type": "stream",
     "text": [
      "<src.model.EvaluatedHealthData object at 0x0000018B1C66D890>\n"
     ]
    }
   ],
   "source": [
    "model=load_model()\n",
    "evaluated_data=model.evaluate(health_data)\n",
    "print(evaluated_data)"
   ]
  },
  {
   "cell_type": "code",
   "execution_count": 29,
   "id": "7ad723a2",
   "metadata": {},
   "outputs": [
    {
     "name": "stdout",
     "output_type": "stream",
     "text": [
      "[{'timestamp': 1728079200.0, 'is_stressed': True, 'is_asleep': False, 'good_sleep': True, 'is_exercise': False, 'is_tired': False}, {'timestamp': 1728079260.0, 'is_stressed': True, 'is_asleep': False, 'good_sleep': True, 'is_exercise': False, 'is_tired': False}, {'timestamp': 1728079320.0, 'is_stressed': True, 'is_asleep': False, 'good_sleep': True, 'is_exercise': False, 'is_tired': False}, {'timestamp': 1728079380.0, 'is_stressed': True, 'is_asleep': False, 'good_sleep': True, 'is_exercise': False, 'is_tired': False}, {'timestamp': 1728079440.0, 'is_stressed': True, 'is_asleep': False, 'good_sleep': True, 'is_exercise': False, 'is_tired': False}, {'timestamp': 1728079500.0, 'is_stressed': True, 'is_asleep': False, 'good_sleep': True, 'is_exercise': False, 'is_tired': False}, {'timestamp': 1728079560.0, 'is_stressed': True, 'is_asleep': True, 'good_sleep': True, 'is_exercise': True, 'is_tired': False}, {'timestamp': 1728079620.0, 'is_stressed': True, 'is_asleep': True, 'good_sleep': True, 'is_exercise': True, 'is_tired': False}, {'timestamp': 1728079680.0, 'is_stressed': True, 'is_asleep': True, 'good_sleep': True, 'is_exercise': True, 'is_tired': False}, {'timestamp': 1728079740.0, 'is_stressed': True, 'is_asleep': True, 'good_sleep': True, 'is_exercise': True, 'is_tired': False}, {'timestamp': 1728079800.0, 'is_stressed': True, 'is_asleep': True, 'good_sleep': False, 'is_exercise': True, 'is_tired': False}, {'timestamp': 1728079860.0, 'is_stressed': True, 'is_asleep': True, 'good_sleep': False, 'is_exercise': False, 'is_tired': False}, {'timestamp': 1728079920.0, 'is_stressed': True, 'is_asleep': True, 'good_sleep': True, 'is_exercise': False, 'is_tired': False}, {'timestamp': 1728079980.0, 'is_stressed': True, 'is_asleep': True, 'good_sleep': True, 'is_exercise': False, 'is_tired': True}, {'timestamp': 1728080040.0, 'is_stressed': True, 'is_asleep': True, 'good_sleep': True, 'is_exercise': False, 'is_tired': True}, {'timestamp': 1728080100.0, 'is_stressed': True, 'is_asleep': True, 'good_sleep': True, 'is_exercise': False, 'is_tired': True}, {'timestamp': 1728080160.0, 'is_stressed': True, 'is_asleep': False, 'good_sleep': True, 'is_exercise': False, 'is_tired': True}, {'timestamp': 1728080220.0, 'is_stressed': True, 'is_asleep': False, 'good_sleep': True, 'is_exercise': False, 'is_tired': True}, {'timestamp': 1728080280.0, 'is_stressed': True, 'is_asleep': False, 'good_sleep': True, 'is_exercise': False, 'is_tired': False}, {'timestamp': 1728080340.0, 'is_stressed': True, 'is_asleep': False, 'good_sleep': True, 'is_exercise': False, 'is_tired': True}]\n"
     ]
    }
   ],
   "source": [
    "today_data=get_data_from_today()\n",
    "print(today_data)"
   ]
  },
  {
   "cell_type": "code",
   "execution_count": 30,
   "id": "218ffc54",
   "metadata": {},
   "outputs": [
    {
     "name": "stdout",
     "output_type": "stream",
     "text": [
      "long stress for 20 min\n"
     ]
    }
   ],
   "source": [
    "problem=HealthProblemDetect.detectProblem(evaluated_data, today_data)\n",
    "print(problem)"
   ]
  },
  {
   "cell_type": "code",
   "execution_count": 31,
   "id": "fe5d1614",
   "metadata": {},
   "outputs": [
    {
     "name": "stdout",
     "output_type": "stream",
     "text": [
      "Response: added data to db\n"
     ]
    }
   ],
   "source": [
    "url = 'http://127.0.0.1:5000/save_data'  \n",
    "data = {'health_data': str(health_data)}\n",
    "response = requests.post(url, json=data)\n",
    "\n",
    "if response.status_code == 200:\n",
    "    print(\"Response:\", response.json())\n",
    "else:\n",
    "    print(\"Error:\", response.status_code, response.text)\n"
   ]
  },
  {
   "cell_type": "code",
   "execution_count": 33,
   "id": "4427ebad",
   "metadata": {},
   "outputs": [
    {
     "name": "stdout",
     "output_type": "stream",
     "text": [
      "Response: chat response\n"
     ]
    }
   ],
   "source": [
    "url = 'http://127.0.0.1:5000/get_ai_recomendation'  \n",
    "data = {'health_problems': problem}\n",
    "response = requests.post(url, json=data)\n",
    "\n",
    "if response.status_code == 200:\n",
    "    print(\"Response:\", response.json())\n",
    "else:\n",
    "    print(\"Error:\", response.status_code, response.text)"
   ]
  },
  {
   "cell_type": "code",
   "execution_count": null,
   "id": "57bb2c1f",
   "metadata": {},
   "outputs": [],
   "source": []
  },
  {
   "cell_type": "code",
   "execution_count": null,
   "id": "123bac9c",
   "metadata": {},
   "outputs": [],
   "source": []
  },
  {
   "cell_type": "code",
   "execution_count": null,
   "id": "ae8afcee",
   "metadata": {},
   "outputs": [],
   "source": []
  }
 ],
 "metadata": {
  "kernelspec": {
   "display_name": "Python 3 (ipykernel)",
   "language": "python",
   "name": "python3"
  },
  "language_info": {
   "codemirror_mode": {
    "name": "ipython",
    "version": 3
   },
   "file_extension": ".py",
   "mimetype": "text/x-python",
   "name": "python",
   "nbconvert_exporter": "python",
   "pygments_lexer": "ipython3",
   "version": "3.11.4"
  }
 },
 "nbformat": 4,
 "nbformat_minor": 5
}
